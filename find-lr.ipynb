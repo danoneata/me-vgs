{
 "cells": [
  {
   "cell_type": "code",
   "execution_count": 1,
   "metadata": {},
   "outputs": [],
   "source": [
    "import os\n",
    "from torch import optim\n",
    "from ignite.handlers import FastaiLRFinder\n",
    "from ignite.engine import Events, create_supervised_trainer\n",
    "from mevgs.train import (\n",
    "    CONFIGS,\n",
    "    UtilsTraining,\n",
    "    identity_loss,\n",
    "    setup_data,\n",
    "    setup_model,\n",
    ")"
   ]
  },
  {
   "cell_type": "code",
   "execution_count": 2,
   "metadata": {},
   "outputs": [],
   "source": [
    "os.environ[\"CUDA_DEVICE_ORDER\"]=\"PCI_BUS_ID\"\n",
    "os.environ[\"CUDA_VISIBLE_DEVICES\"] = \"5\""
   ]
  },
  {
   "cell_type": "code",
   "execution_count": 3,
   "metadata": {},
   "outputs": [],
   "source": [
    "config = CONFIGS[\"22\"]"
   ]
  },
  {
   "cell_type": "code",
   "execution_count": 4,
   "metadata": {},
   "outputs": [
    {
     "name": "stderr",
     "output_type": "stream",
     "text": [
      "Using cache found in /home/doneata/.cache/torch/hub/facebookresearch_dino_main\n",
      "/home/doneata/miniconda3/envs/mattnet/lib/python3.10/site-packages/torchvision/models/_utils.py:208: UserWarning: The parameter 'pretrained' is deprecated since 0.13 and may be removed in the future, please use 'weights' instead.\n",
      "  warnings.warn(\n",
      "/home/doneata/miniconda3/envs/mattnet/lib/python3.10/site-packages/torchvision/models/_utils.py:223: UserWarning: Arguments other than a weight enum or `None` for 'weights' are deprecated since 0.13 and may be removed in the future. The current behavior is equivalent to passing `weights=None`.\n",
      "  warnings.warn(msg)\n"
     ]
    },
    {
     "data": {
      "text/plain": [
       "CLIP(\n",
       "  (audio_enc): AudioEncoderTransformer(\n",
       "    (layer): TransformerEncoderLayer(\n",
       "      (self_attn): MultiheadAttention(\n",
       "        (out_proj): NonDynamicallyQuantizableLinear(in_features=768, out_features=768, bias=True)\n",
       "      )\n",
       "      (linear1): Linear(in_features=768, out_features=2048, bias=True)\n",
       "      (dropout): Dropout(p=0.1, inplace=False)\n",
       "      (linear2): Linear(in_features=2048, out_features=768, bias=True)\n",
       "      (norm1): LayerNorm((768,), eps=1e-05, elementwise_affine=True)\n",
       "      (norm2): LayerNorm((768,), eps=1e-05, elementwise_affine=True)\n",
       "      (dropout1): Dropout(p=0.1, inplace=False)\n",
       "      (dropout2): Dropout(p=0.1, inplace=False)\n",
       "    )\n",
       "    (encoder): TransformerEncoder(\n",
       "      (layers): ModuleList(\n",
       "        (0): TransformerEncoderLayer(\n",
       "          (self_attn): MultiheadAttention(\n",
       "            (out_proj): NonDynamicallyQuantizableLinear(in_features=768, out_features=768, bias=True)\n",
       "          )\n",
       "          (linear1): Linear(in_features=768, out_features=2048, bias=True)\n",
       "          (dropout): Dropout(p=0.1, inplace=False)\n",
       "          (linear2): Linear(in_features=2048, out_features=768, bias=True)\n",
       "          (norm1): LayerNorm((768,), eps=1e-05, elementwise_affine=True)\n",
       "          (norm2): LayerNorm((768,), eps=1e-05, elementwise_affine=True)\n",
       "          (dropout1): Dropout(p=0.1, inplace=False)\n",
       "          (dropout2): Dropout(p=0.1, inplace=False)\n",
       "        )\n",
       "      )\n",
       "    )\n",
       "    (up): Linear(in_features=768, out_features=2048, bias=True)\n",
       "  )\n",
       "  (image_enc): ImageEncoder(\n",
       "    (feature_extractor): ImageBackboneDINO(\n",
       "      (model): Sequential(\n",
       "        (0): Conv2d(3, 64, kernel_size=(7, 7), stride=(2, 2), padding=(3, 3), bias=False)\n",
       "        (1): BatchNorm2d(64, eps=1e-05, momentum=0.1, affine=True, track_running_stats=True)\n",
       "        (2): ReLU(inplace=True)\n",
       "        (3): MaxPool2d(kernel_size=3, stride=2, padding=1, dilation=1, ceil_mode=False)\n",
       "        (4): Sequential(\n",
       "          (0): Bottleneck(\n",
       "            (conv1): Conv2d(64, 64, kernel_size=(1, 1), stride=(1, 1), bias=False)\n",
       "            (bn1): BatchNorm2d(64, eps=1e-05, momentum=0.1, affine=True, track_running_stats=True)\n",
       "            (conv2): Conv2d(64, 64, kernel_size=(3, 3), stride=(1, 1), padding=(1, 1), bias=False)\n",
       "            (bn2): BatchNorm2d(64, eps=1e-05, momentum=0.1, affine=True, track_running_stats=True)\n",
       "            (conv3): Conv2d(64, 256, kernel_size=(1, 1), stride=(1, 1), bias=False)\n",
       "            (bn3): BatchNorm2d(256, eps=1e-05, momentum=0.1, affine=True, track_running_stats=True)\n",
       "            (relu): ReLU(inplace=True)\n",
       "            (downsample): Sequential(\n",
       "              (0): Conv2d(64, 256, kernel_size=(1, 1), stride=(1, 1), bias=False)\n",
       "              (1): BatchNorm2d(256, eps=1e-05, momentum=0.1, affine=True, track_running_stats=True)\n",
       "            )\n",
       "          )\n",
       "          (1): Bottleneck(\n",
       "            (conv1): Conv2d(256, 64, kernel_size=(1, 1), stride=(1, 1), bias=False)\n",
       "            (bn1): BatchNorm2d(64, eps=1e-05, momentum=0.1, affine=True, track_running_stats=True)\n",
       "            (conv2): Conv2d(64, 64, kernel_size=(3, 3), stride=(1, 1), padding=(1, 1), bias=False)\n",
       "            (bn2): BatchNorm2d(64, eps=1e-05, momentum=0.1, affine=True, track_running_stats=True)\n",
       "            (conv3): Conv2d(64, 256, kernel_size=(1, 1), stride=(1, 1), bias=False)\n",
       "            (bn3): BatchNorm2d(256, eps=1e-05, momentum=0.1, affine=True, track_running_stats=True)\n",
       "            (relu): ReLU(inplace=True)\n",
       "          )\n",
       "          (2): Bottleneck(\n",
       "            (conv1): Conv2d(256, 64, kernel_size=(1, 1), stride=(1, 1), bias=False)\n",
       "            (bn1): BatchNorm2d(64, eps=1e-05, momentum=0.1, affine=True, track_running_stats=True)\n",
       "            (conv2): Conv2d(64, 64, kernel_size=(3, 3), stride=(1, 1), padding=(1, 1), bias=False)\n",
       "            (bn2): BatchNorm2d(64, eps=1e-05, momentum=0.1, affine=True, track_running_stats=True)\n",
       "            (conv3): Conv2d(64, 256, kernel_size=(1, 1), stride=(1, 1), bias=False)\n",
       "            (bn3): BatchNorm2d(256, eps=1e-05, momentum=0.1, affine=True, track_running_stats=True)\n",
       "            (relu): ReLU(inplace=True)\n",
       "          )\n",
       "        )\n",
       "        (5): Sequential(\n",
       "          (0): Bottleneck(\n",
       "            (conv1): Conv2d(256, 128, kernel_size=(1, 1), stride=(1, 1), bias=False)\n",
       "            (bn1): BatchNorm2d(128, eps=1e-05, momentum=0.1, affine=True, track_running_stats=True)\n",
       "            (conv2): Conv2d(128, 128, kernel_size=(3, 3), stride=(2, 2), padding=(1, 1), bias=False)\n",
       "            (bn2): BatchNorm2d(128, eps=1e-05, momentum=0.1, affine=True, track_running_stats=True)\n",
       "            (conv3): Conv2d(128, 512, kernel_size=(1, 1), stride=(1, 1), bias=False)\n",
       "            (bn3): BatchNorm2d(512, eps=1e-05, momentum=0.1, affine=True, track_running_stats=True)\n",
       "            (relu): ReLU(inplace=True)\n",
       "            (downsample): Sequential(\n",
       "              (0): Conv2d(256, 512, kernel_size=(1, 1), stride=(2, 2), bias=False)\n",
       "              (1): BatchNorm2d(512, eps=1e-05, momentum=0.1, affine=True, track_running_stats=True)\n",
       "            )\n",
       "          )\n",
       "          (1): Bottleneck(\n",
       "            (conv1): Conv2d(512, 128, kernel_size=(1, 1), stride=(1, 1), bias=False)\n",
       "            (bn1): BatchNorm2d(128, eps=1e-05, momentum=0.1, affine=True, track_running_stats=True)\n",
       "            (conv2): Conv2d(128, 128, kernel_size=(3, 3), stride=(1, 1), padding=(1, 1), bias=False)\n",
       "            (bn2): BatchNorm2d(128, eps=1e-05, momentum=0.1, affine=True, track_running_stats=True)\n",
       "            (conv3): Conv2d(128, 512, kernel_size=(1, 1), stride=(1, 1), bias=False)\n",
       "            (bn3): BatchNorm2d(512, eps=1e-05, momentum=0.1, affine=True, track_running_stats=True)\n",
       "            (relu): ReLU(inplace=True)\n",
       "          )\n",
       "          (2): Bottleneck(\n",
       "            (conv1): Conv2d(512, 128, kernel_size=(1, 1), stride=(1, 1), bias=False)\n",
       "            (bn1): BatchNorm2d(128, eps=1e-05, momentum=0.1, affine=True, track_running_stats=True)\n",
       "            (conv2): Conv2d(128, 128, kernel_size=(3, 3), stride=(1, 1), padding=(1, 1), bias=False)\n",
       "            (bn2): BatchNorm2d(128, eps=1e-05, momentum=0.1, affine=True, track_running_stats=True)\n",
       "            (conv3): Conv2d(128, 512, kernel_size=(1, 1), stride=(1, 1), bias=False)\n",
       "            (bn3): BatchNorm2d(512, eps=1e-05, momentum=0.1, affine=True, track_running_stats=True)\n",
       "            (relu): ReLU(inplace=True)\n",
       "          )\n",
       "          (3): Bottleneck(\n",
       "            (conv1): Conv2d(512, 128, kernel_size=(1, 1), stride=(1, 1), bias=False)\n",
       "            (bn1): BatchNorm2d(128, eps=1e-05, momentum=0.1, affine=True, track_running_stats=True)\n",
       "            (conv2): Conv2d(128, 128, kernel_size=(3, 3), stride=(1, 1), padding=(1, 1), bias=False)\n",
       "            (bn2): BatchNorm2d(128, eps=1e-05, momentum=0.1, affine=True, track_running_stats=True)\n",
       "            (conv3): Conv2d(128, 512, kernel_size=(1, 1), stride=(1, 1), bias=False)\n",
       "            (bn3): BatchNorm2d(512, eps=1e-05, momentum=0.1, affine=True, track_running_stats=True)\n",
       "            (relu): ReLU(inplace=True)\n",
       "          )\n",
       "        )\n",
       "        (6): Sequential(\n",
       "          (0): Bottleneck(\n",
       "            (conv1): Conv2d(512, 256, kernel_size=(1, 1), stride=(1, 1), bias=False)\n",
       "            (bn1): BatchNorm2d(256, eps=1e-05, momentum=0.1, affine=True, track_running_stats=True)\n",
       "            (conv2): Conv2d(256, 256, kernel_size=(3, 3), stride=(2, 2), padding=(1, 1), bias=False)\n",
       "            (bn2): BatchNorm2d(256, eps=1e-05, momentum=0.1, affine=True, track_running_stats=True)\n",
       "            (conv3): Conv2d(256, 1024, kernel_size=(1, 1), stride=(1, 1), bias=False)\n",
       "            (bn3): BatchNorm2d(1024, eps=1e-05, momentum=0.1, affine=True, track_running_stats=True)\n",
       "            (relu): ReLU(inplace=True)\n",
       "            (downsample): Sequential(\n",
       "              (0): Conv2d(512, 1024, kernel_size=(1, 1), stride=(2, 2), bias=False)\n",
       "              (1): BatchNorm2d(1024, eps=1e-05, momentum=0.1, affine=True, track_running_stats=True)\n",
       "            )\n",
       "          )\n",
       "          (1): Bottleneck(\n",
       "            (conv1): Conv2d(1024, 256, kernel_size=(1, 1), stride=(1, 1), bias=False)\n",
       "            (bn1): BatchNorm2d(256, eps=1e-05, momentum=0.1, affine=True, track_running_stats=True)\n",
       "            (conv2): Conv2d(256, 256, kernel_size=(3, 3), stride=(1, 1), padding=(1, 1), bias=False)\n",
       "            (bn2): BatchNorm2d(256, eps=1e-05, momentum=0.1, affine=True, track_running_stats=True)\n",
       "            (conv3): Conv2d(256, 1024, kernel_size=(1, 1), stride=(1, 1), bias=False)\n",
       "            (bn3): BatchNorm2d(1024, eps=1e-05, momentum=0.1, affine=True, track_running_stats=True)\n",
       "            (relu): ReLU(inplace=True)\n",
       "          )\n",
       "          (2): Bottleneck(\n",
       "            (conv1): Conv2d(1024, 256, kernel_size=(1, 1), stride=(1, 1), bias=False)\n",
       "            (bn1): BatchNorm2d(256, eps=1e-05, momentum=0.1, affine=True, track_running_stats=True)\n",
       "            (conv2): Conv2d(256, 256, kernel_size=(3, 3), stride=(1, 1), padding=(1, 1), bias=False)\n",
       "            (bn2): BatchNorm2d(256, eps=1e-05, momentum=0.1, affine=True, track_running_stats=True)\n",
       "            (conv3): Conv2d(256, 1024, kernel_size=(1, 1), stride=(1, 1), bias=False)\n",
       "            (bn3): BatchNorm2d(1024, eps=1e-05, momentum=0.1, affine=True, track_running_stats=True)\n",
       "            (relu): ReLU(inplace=True)\n",
       "          )\n",
       "          (3): Bottleneck(\n",
       "            (conv1): Conv2d(1024, 256, kernel_size=(1, 1), stride=(1, 1), bias=False)\n",
       "            (bn1): BatchNorm2d(256, eps=1e-05, momentum=0.1, affine=True, track_running_stats=True)\n",
       "            (conv2): Conv2d(256, 256, kernel_size=(3, 3), stride=(1, 1), padding=(1, 1), bias=False)\n",
       "            (bn2): BatchNorm2d(256, eps=1e-05, momentum=0.1, affine=True, track_running_stats=True)\n",
       "            (conv3): Conv2d(256, 1024, kernel_size=(1, 1), stride=(1, 1), bias=False)\n",
       "            (bn3): BatchNorm2d(1024, eps=1e-05, momentum=0.1, affine=True, track_running_stats=True)\n",
       "            (relu): ReLU(inplace=True)\n",
       "          )\n",
       "          (4): Bottleneck(\n",
       "            (conv1): Conv2d(1024, 256, kernel_size=(1, 1), stride=(1, 1), bias=False)\n",
       "            (bn1): BatchNorm2d(256, eps=1e-05, momentum=0.1, affine=True, track_running_stats=True)\n",
       "            (conv2): Conv2d(256, 256, kernel_size=(3, 3), stride=(1, 1), padding=(1, 1), bias=False)\n",
       "            (bn2): BatchNorm2d(256, eps=1e-05, momentum=0.1, affine=True, track_running_stats=True)\n",
       "            (conv3): Conv2d(256, 1024, kernel_size=(1, 1), stride=(1, 1), bias=False)\n",
       "            (bn3): BatchNorm2d(1024, eps=1e-05, momentum=0.1, affine=True, track_running_stats=True)\n",
       "            (relu): ReLU(inplace=True)\n",
       "          )\n",
       "          (5): Bottleneck(\n",
       "            (conv1): Conv2d(1024, 256, kernel_size=(1, 1), stride=(1, 1), bias=False)\n",
       "            (bn1): BatchNorm2d(256, eps=1e-05, momentum=0.1, affine=True, track_running_stats=True)\n",
       "            (conv2): Conv2d(256, 256, kernel_size=(3, 3), stride=(1, 1), padding=(1, 1), bias=False)\n",
       "            (bn2): BatchNorm2d(256, eps=1e-05, momentum=0.1, affine=True, track_running_stats=True)\n",
       "            (conv3): Conv2d(256, 1024, kernel_size=(1, 1), stride=(1, 1), bias=False)\n",
       "            (bn3): BatchNorm2d(1024, eps=1e-05, momentum=0.1, affine=True, track_running_stats=True)\n",
       "            (relu): ReLU(inplace=True)\n",
       "          )\n",
       "        )\n",
       "        (7): Sequential(\n",
       "          (0): Bottleneck(\n",
       "            (conv1): Conv2d(1024, 512, kernel_size=(1, 1), stride=(1, 1), bias=False)\n",
       "            (bn1): BatchNorm2d(512, eps=1e-05, momentum=0.1, affine=True, track_running_stats=True)\n",
       "            (conv2): Conv2d(512, 512, kernel_size=(3, 3), stride=(2, 2), padding=(1, 1), bias=False)\n",
       "            (bn2): BatchNorm2d(512, eps=1e-05, momentum=0.1, affine=True, track_running_stats=True)\n",
       "            (conv3): Conv2d(512, 2048, kernel_size=(1, 1), stride=(1, 1), bias=False)\n",
       "            (bn3): BatchNorm2d(2048, eps=1e-05, momentum=0.1, affine=True, track_running_stats=True)\n",
       "            (relu): ReLU(inplace=True)\n",
       "            (downsample): Sequential(\n",
       "              (0): Conv2d(1024, 2048, kernel_size=(1, 1), stride=(2, 2), bias=False)\n",
       "              (1): BatchNorm2d(2048, eps=1e-05, momentum=0.1, affine=True, track_running_stats=True)\n",
       "            )\n",
       "          )\n",
       "          (1): Bottleneck(\n",
       "            (conv1): Conv2d(2048, 512, kernel_size=(1, 1), stride=(1, 1), bias=False)\n",
       "            (bn1): BatchNorm2d(512, eps=1e-05, momentum=0.1, affine=True, track_running_stats=True)\n",
       "            (conv2): Conv2d(512, 512, kernel_size=(3, 3), stride=(1, 1), padding=(1, 1), bias=False)\n",
       "            (bn2): BatchNorm2d(512, eps=1e-05, momentum=0.1, affine=True, track_running_stats=True)\n",
       "            (conv3): Conv2d(512, 2048, kernel_size=(1, 1), stride=(1, 1), bias=False)\n",
       "            (bn3): BatchNorm2d(2048, eps=1e-05, momentum=0.1, affine=True, track_running_stats=True)\n",
       "            (relu): ReLU(inplace=True)\n",
       "          )\n",
       "          (2): Bottleneck(\n",
       "            (conv1): Conv2d(2048, 512, kernel_size=(1, 1), stride=(1, 1), bias=False)\n",
       "            (bn1): BatchNorm2d(512, eps=1e-05, momentum=0.1, affine=True, track_running_stats=True)\n",
       "            (conv2): Conv2d(512, 512, kernel_size=(3, 3), stride=(1, 1), padding=(1, 1), bias=False)\n",
       "            (bn2): BatchNorm2d(512, eps=1e-05, momentum=0.1, affine=True, track_running_stats=True)\n",
       "            (conv3): Conv2d(512, 2048, kernel_size=(1, 1), stride=(1, 1), bias=False)\n",
       "            (bn3): BatchNorm2d(2048, eps=1e-05, momentum=0.1, affine=True, track_running_stats=True)\n",
       "            (relu): ReLU(inplace=True)\n",
       "          )\n",
       "        )\n",
       "      )\n",
       "    )\n",
       "    (down): Linear(in_features=2048, out_features=256, bias=True)\n",
       "    (layer): TransformerEncoderLayer(\n",
       "      (self_attn): MultiheadAttention(\n",
       "        (out_proj): NonDynamicallyQuantizableLinear(in_features=256, out_features=256, bias=True)\n",
       "      )\n",
       "      (linear1): Linear(in_features=256, out_features=2048, bias=True)\n",
       "      (dropout): Dropout(p=0.1, inplace=False)\n",
       "      (linear2): Linear(in_features=2048, out_features=256, bias=True)\n",
       "      (norm1): LayerNorm((256,), eps=1e-05, elementwise_affine=True)\n",
       "      (norm2): LayerNorm((256,), eps=1e-05, elementwise_affine=True)\n",
       "      (dropout1): Dropout(p=0.1, inplace=False)\n",
       "      (dropout2): Dropout(p=0.1, inplace=False)\n",
       "    )\n",
       "    (encoder): TransformerEncoder(\n",
       "      (layers): ModuleList(\n",
       "        (0): TransformerEncoderLayer(\n",
       "          (self_attn): MultiheadAttention(\n",
       "            (out_proj): NonDynamicallyQuantizableLinear(in_features=256, out_features=256, bias=True)\n",
       "          )\n",
       "          (linear1): Linear(in_features=256, out_features=2048, bias=True)\n",
       "          (dropout): Dropout(p=0.1, inplace=False)\n",
       "          (linear2): Linear(in_features=2048, out_features=256, bias=True)\n",
       "          (norm1): LayerNorm((256,), eps=1e-05, elementwise_affine=True)\n",
       "          (norm2): LayerNorm((256,), eps=1e-05, elementwise_affine=True)\n",
       "          (dropout1): Dropout(p=0.1, inplace=False)\n",
       "          (dropout2): Dropout(p=0.1, inplace=False)\n",
       "        )\n",
       "      )\n",
       "    )\n",
       "    (up): Linear(in_features=256, out_features=2048, bias=True)\n",
       "  )\n",
       ")"
      ]
     },
     "execution_count": 4,
     "metadata": {},
     "output_type": "execute_result"
    }
   ],
   "source": [
    "\n",
    "device = config[\"device\"]\n",
    "model = setup_model(**config[\"model\"])\n",
    "model.to(device=device)"
   ]
  },
  {
   "cell_type": "code",
   "execution_count": 5,
   "metadata": {},
   "outputs": [
    {
     "name": "stdout",
     "output_type": "stream",
     "text": [
      "12603648\n",
      "3681280\n"
     ]
    }
   ],
   "source": [
    "# count model parameters\n",
    "def num_params(model):\n",
    "    return sum(p.numel() for p in model.parameters() if p.requires_grad)\n",
    "\n",
    "print(num_params(model.audio_enc))\n",
    "print(num_params(model.image_enc))"
   ]
  },
  {
   "cell_type": "code",
   "execution_count": 6,
   "metadata": {},
   "outputs": [],
   "source": [
    "optimizer = optim.Adam(model.parameters(), **config[\"optimizer\"])"
   ]
  },
  {
   "cell_type": "code",
   "execution_count": 7,
   "metadata": {},
   "outputs": [],
   "source": [
    "trainer = create_supervised_trainer(\n",
    "    model,\n",
    "    optimizer,\n",
    "    prepare_batch=UtilsTraining.prepare_batch_fn,\n",
    "    model_fn=UtilsTraining.model_fn,\n",
    "    loss_fn=identity_loss,\n",
    "    device=device,\n",
    ")"
   ]
  },
  {
   "cell_type": "code",
   "execution_count": 8,
   "metadata": {},
   "outputs": [
    {
     "data": {
      "text/plain": [
       "<ignite.engine.events.RemovableEventHandle at 0x7ffac28a2a70>"
      ]
     },
     "execution_count": 8,
     "metadata": {},
     "output_type": "execute_result"
    }
   ],
   "source": [
    "def print_metrics(engine, tag):\n",
    "    print(\"{:s} · {:4d} / {:4d} · loss: {:.3f}\".format(\n",
    "            tag,\n",
    "            engine.state.epoch,\n",
    "            engine.state.iteration,\n",
    "            engine.state.output,\n",
    "        )\n",
    "    )\n",
    "\n",
    "trainer.add_event_handler(\n",
    "    Events.ITERATION_COMPLETED(every=1),\n",
    "    print_metrics,\n",
    "    tag=\"train\",\n",
    ")\n"
   ]
  },
  {
   "cell_type": "code",
   "execution_count": 9,
   "metadata": {},
   "outputs": [
    {
     "name": "stderr",
     "output_type": "stream",
     "text": [
      "2024-07-22 17:01:28,000 ignite.distributed.auto.auto_dataloader INFO: Use data loader kwargs for dataset '<mevgs.data.PairedME': \n",
      "\t{'num_workers': 16, 'batch_size': 48, 'collate_fn': <function collate_nested at 0x7ffac2a26950>, 'shuffle': True, 'pin_memory': True}\n",
      "2024-07-22 17:01:28,002 ignite.distributed.auto.auto_dataloader INFO: Use data loader kwargs for dataset '<mevgs.data.PairedME': \n",
      "\t{'num_workers': 16, 'batch_size': 48, 'collate_fn': <function collate_nested at 0x7ffac2a26950>, 'pin_memory': True}\n"
     ]
    }
   ],
   "source": [
    "config[\"data\"][\"batch_size\"] = 48\n",
    "dataloader_train, _ = setup_data(**config[\"data\"])"
   ]
  },
  {
   "cell_type": "code",
   "execution_count": 10,
   "metadata": {},
   "outputs": [
    {
     "name": "stdout",
     "output_type": "stream",
     "text": [
      "train ·    1 /    1 · loss: 3.896\n",
      "train ·    1 /    2 · loss: 2.537\n",
      "train ·    1 /    3 · loss: 2.401\n",
      "train ·    1 /    4 · loss: 2.848\n",
      "train ·    1 /    5 · loss: 3.381\n",
      "train ·    1 /    6 · loss: 2.557\n",
      "train ·    1 /    7 · loss: 3.129\n",
      "train ·    1 /    8 · loss: 2.841\n",
      "train ·    1 /    9 · loss: 3.132\n",
      "train ·    1 /   10 · loss: 2.774\n",
      "train ·    1 /   11 · loss: 2.579\n",
      "train ·    1 /   12 · loss: 2.665\n",
      "train ·    1 /   13 · loss: 2.867\n",
      "train ·    1 /   14 · loss: 2.858\n",
      "train ·    1 /   15 · loss: 3.139\n",
      "train ·    1 /   16 · loss: 2.897\n",
      "train ·    1 /   17 · loss: 3.085\n",
      "train ·    1 /   18 · loss: 3.542\n",
      "train ·    1 /   19 · loss: 2.574\n",
      "train ·    1 /   20 · loss: 3.030\n",
      "train ·    1 /   21 · loss: 3.220\n",
      "train ·    1 /   22 · loss: 3.419\n",
      "train ·    1 /   23 · loss: 2.682\n",
      "train ·    1 /   24 · loss: 2.656\n",
      "train ·    1 /   25 · loss: 2.798\n",
      "train ·    1 /   26 · loss: 2.590\n",
      "train ·    1 /   27 · loss: 2.528\n",
      "train ·    1 /   28 · loss: 2.933\n",
      "train ·    1 /   29 · loss: 2.839\n",
      "train ·    1 /   30 · loss: 2.693\n",
      "train ·    1 /   31 · loss: 2.760\n",
      "train ·    1 /   32 · loss: 2.622\n",
      "train ·    1 /   33 · loss: 2.776\n",
      "train ·    1 /   34 · loss: 2.763\n",
      "train ·    1 /   35 · loss: 2.885\n",
      "train ·    1 /   36 · loss: 3.125\n",
      "train ·    1 /   37 · loss: 2.976\n",
      "train ·    1 /   38 · loss: 3.471\n",
      "train ·    1 /   39 · loss: 2.971\n",
      "train ·    1 /   40 · loss: 3.166\n",
      "train ·    1 /   41 · loss: 2.406\n",
      "train ·    1 /   42 · loss: 3.244\n",
      "train ·    1 /   43 · loss: 3.079\n",
      "train ·    1 /   44 · loss: 2.581\n",
      "train ·    1 /   45 · loss: 2.386\n",
      "train ·    1 /   46 · loss: 2.959\n",
      "train ·    1 /   47 · loss: 3.007\n",
      "train ·    1 /   48 · loss: 3.096\n",
      "train ·    1 /   49 · loss: 2.830\n",
      "train ·    1 /   50 · loss: 3.006\n",
      "train ·    1 /   51 · loss: 3.225\n",
      "train ·    1 /   52 · loss: 2.589\n",
      "train ·    1 /   53 · loss: 2.739\n",
      "train ·    1 /   54 · loss: 2.869\n",
      "train ·    1 /   55 · loss: 3.227\n",
      "train ·    1 /   56 · loss: 2.953\n",
      "train ·    1 /   57 · loss: 2.873\n",
      "train ·    1 /   58 · loss: 2.769\n",
      "train ·    1 /   59 · loss: 3.368\n",
      "train ·    1 /   60 · loss: 2.832\n",
      "train ·    1 /   61 · loss: 3.075\n",
      "train ·    1 /   62 · loss: 2.768\n",
      "train ·    1 /   63 · loss: 3.382\n",
      "train ·    1 /   64 · loss: 2.726\n",
      "train ·    1 /   65 · loss: 2.637\n",
      "train ·    1 /   66 · loss: 2.500\n",
      "train ·    1 /   67 · loss: 2.910\n",
      "train ·    1 /   68 · loss: 2.798\n",
      "train ·    1 /   69 · loss: 2.833\n",
      "train ·    1 /   70 · loss: 2.533\n",
      "train ·    1 /   71 · loss: 2.697\n",
      "train ·    1 /   72 · loss: 2.862\n",
      "train ·    1 /   73 · loss: 2.879\n",
      "train ·    1 /   74 · loss: 2.797\n",
      "train ·    1 /   75 · loss: 2.816\n",
      "train ·    1 /   76 · loss: 2.684\n",
      "train ·    1 /   77 · loss: 3.083\n",
      "train ·    1 /   78 · loss: 2.393\n",
      "train ·    1 /   79 · loss: 2.682\n",
      "train ·    1 /   80 · loss: 2.617\n",
      "train ·    1 /   81 · loss: 2.649\n",
      "train ·    1 /   82 · loss: 2.633\n",
      "train ·    1 /   83 · loss: 2.459\n",
      "train ·    1 /   84 · loss: 3.027\n",
      "train ·    1 /   85 · loss: 2.770\n",
      "train ·    1 /   86 · loss: 2.679\n",
      "train ·    1 /   87 · loss: 2.996\n",
      "train ·    1 /   88 · loss: 2.716\n",
      "train ·    1 /   89 · loss: 2.811\n",
      "train ·    1 /   90 · loss: 2.762\n",
      "train ·    1 /   91 · loss: 2.522\n",
      "train ·    1 /   92 · loss: 2.968\n",
      "train ·    1 /   93 · loss: 2.648\n",
      "train ·    1 /   94 · loss: 2.577\n",
      "train ·    1 /   95 · loss: 2.450\n",
      "train ·    1 /   96 · loss: 2.673\n",
      "train ·    1 /   97 · loss: 2.732\n",
      "train ·    1 /   98 · loss: 2.787\n",
      "train ·    1 /   99 · loss: 2.121\n",
      "train ·    1 /  100 · loss: 2.195\n",
      "train ·    1 /  101 · loss: 2.589\n",
      "train ·    1 /  102 · loss: 2.613\n",
      "train ·    1 /  103 · loss: 2.803\n",
      "train ·    1 /  104 · loss: 2.324\n",
      "train ·    1 /  105 · loss: 2.318\n",
      "train ·    1 /  106 · loss: 2.158\n",
      "train ·    1 /  107 · loss: 2.490\n",
      "train ·    1 /  108 · loss: 2.393\n",
      "train ·    1 /  109 · loss: 2.329\n",
      "train ·    1 /  110 · loss: 2.453\n",
      "train ·    1 /  111 · loss: 2.312\n",
      "train ·    1 /  112 · loss: 2.303\n",
      "train ·    1 /  113 · loss: 2.462\n",
      "train ·    1 /  114 · loss: 2.171\n",
      "train ·    1 /  115 · loss: 2.162\n",
      "train ·    1 /  116 · loss: 2.386\n",
      "train ·    1 /  117 · loss: 3.251\n",
      "train ·    1 /  118 · loss: 1.819\n",
      "train ·    1 /  119 · loss: 2.106\n",
      "train ·    1 /  120 · loss: 2.367\n",
      "train ·    1 /  121 · loss: 2.487\n",
      "train ·    1 /  122 · loss: 1.903\n",
      "train ·    1 /  123 · loss: 2.436\n",
      "train ·    1 /  124 · loss: 2.286\n",
      "train ·    1 /  125 · loss: 2.256\n",
      "train ·    1 /  126 · loss: 1.780\n",
      "train ·    1 /  127 · loss: 2.361\n",
      "train ·    1 /  128 · loss: 2.396\n",
      "train ·    1 /  129 · loss: 2.158\n",
      "train ·    1 /  130 · loss: 1.857\n",
      "train ·    1 /  131 · loss: 1.981\n",
      "train ·    1 /  132 · loss: 2.410\n",
      "train ·    1 /  133 · loss: 2.174\n",
      "train ·    1 /  134 · loss: 2.256\n",
      "train ·    1 /  135 · loss: 1.617\n",
      "train ·    1 /  136 · loss: 2.018\n",
      "train ·    1 /  137 · loss: 1.968\n",
      "train ·    1 /  138 · loss: 1.510\n",
      "train ·    1 /  139 · loss: 1.857\n",
      "train ·    1 /  140 · loss: 2.004\n",
      "train ·    1 /  141 · loss: 1.926\n",
      "train ·    1 /  142 · loss: 1.704\n",
      "train ·    1 /  143 · loss: 1.611\n",
      "train ·    1 /  144 · loss: 1.667\n",
      "train ·    1 /  145 · loss: 1.369\n",
      "train ·    1 /  146 · loss: 1.661\n",
      "train ·    1 /  147 · loss: 1.720\n",
      "train ·    1 /  148 · loss: 1.493\n",
      "train ·    1 /  149 · loss: 1.548\n",
      "train ·    1 /  150 · loss: 1.550\n",
      "train ·    1 /  151 · loss: 1.895\n",
      "train ·    1 /  152 · loss: 1.465\n",
      "train ·    1 /  153 · loss: 1.220\n",
      "train ·    1 /  154 · loss: 1.459\n",
      "train ·    1 /  155 · loss: 1.386\n",
      "train ·    1 /  156 · loss: 1.244\n",
      "train ·    1 /  157 · loss: 1.493\n",
      "train ·    1 /  158 · loss: 1.328\n",
      "train ·    1 /  159 · loss: 1.209\n",
      "train ·    1 /  160 · loss: 0.975\n",
      "train ·    1 /  161 · loss: 1.446\n",
      "train ·    1 /  162 · loss: 0.820\n",
      "train ·    1 /  163 · loss: 0.957\n",
      "train ·    1 /  164 · loss: 0.921\n",
      "train ·    1 /  165 · loss: 0.956\n",
      "train ·    1 /  166 · loss: 1.311\n",
      "train ·    1 /  167 · loss: 1.072\n",
      "train ·    1 /  168 · loss: 1.218\n",
      "train ·    1 /  169 · loss: 0.858\n",
      "train ·    1 /  170 · loss: 1.130\n",
      "train ·    1 /  171 · loss: 0.641\n",
      "train ·    1 /  172 · loss: 0.835\n",
      "train ·    1 /  173 · loss: 0.950\n",
      "train ·    1 /  174 · loss: 0.596\n",
      "train ·    1 /  175 · loss: 0.680\n",
      "train ·    1 /  176 · loss: 0.566\n",
      "train ·    1 /  177 · loss: 0.852\n",
      "train ·    1 /  178 · loss: 1.056\n",
      "train ·    1 /  179 · loss: 0.832\n",
      "train ·    1 /  180 · loss: 0.500\n",
      "train ·    1 /  181 · loss: 0.987\n",
      "train ·    1 /  182 · loss: 0.612\n",
      "train ·    1 /  183 · loss: 0.444\n",
      "train ·    1 /  184 · loss: 0.979\n",
      "train ·    1 /  185 · loss: 0.556\n",
      "train ·    1 /  186 · loss: 0.621\n",
      "train ·    1 /  187 · loss: 1.112\n",
      "train ·    1 /  188 · loss: 0.532\n",
      "train ·    1 /  189 · loss: 0.813\n",
      "train ·    1 /  190 · loss: 0.881\n",
      "train ·    1 /  191 · loss: 0.793\n",
      "train ·    1 /  192 · loss: 0.617\n",
      "train ·    1 /  193 · loss: 0.654\n",
      "train ·    1 /  194 · loss: 0.583\n",
      "train ·    1 /  195 · loss: 0.268\n",
      "train ·    1 /  196 · loss: 0.504\n",
      "train ·    1 /  197 · loss: 0.648\n",
      "train ·    1 /  198 · loss: 0.606\n",
      "train ·    1 /  199 · loss: 0.370\n",
      "train ·    1 /  200 · loss: 0.529\n",
      "train ·    1 /  201 · loss: 0.631\n",
      "train ·    1 /  202 · loss: 0.431\n",
      "train ·    1 /  203 · loss: 0.658\n",
      "train ·    1 /  204 · loss: 0.377\n",
      "train ·    1 /  205 · loss: 0.584\n",
      "train ·    1 /  206 · loss: 0.419\n",
      "train ·    1 /  207 · loss: 0.496\n",
      "train ·    1 /  208 · loss: 0.462\n",
      "train ·    1 /  209 · loss: 0.733\n",
      "train ·    1 /  210 · loss: 0.828\n",
      "train ·    1 /  211 · loss: 1.100\n",
      "train ·    1 /  212 · loss: 1.255\n",
      "train ·    1 /  213 · loss: 0.878\n",
      "train ·    1 /  214 · loss: 1.003\n",
      "train ·    1 /  215 · loss: 1.243\n",
      "train ·    1 /  216 · loss: 0.795\n",
      "train ·    1 /  217 · loss: 1.183\n",
      "train ·    1 /  218 · loss: 0.908\n",
      "train ·    1 /  219 · loss: 1.105\n",
      "train ·    1 /  220 · loss: 0.974\n",
      "train ·    1 /  221 · loss: 0.856\n",
      "train ·    1 /  222 · loss: 0.745\n",
      "train ·    1 /  223 · loss: 1.011\n",
      "train ·    1 /  224 · loss: 0.704\n",
      "train ·    1 /  225 · loss: 0.558\n",
      "train ·    1 /  226 · loss: 0.618\n",
      "train ·    1 /  227 · loss: 0.601\n",
      "train ·    1 /  228 · loss: 1.382\n",
      "train ·    1 /  229 · loss: 0.507\n",
      "train ·    1 /  230 · loss: 0.816\n",
      "train ·    1 /  231 · loss: 1.098\n",
      "train ·    1 /  232 · loss: 1.364\n",
      "train ·    1 /  233 · loss: 0.913\n",
      "train ·    1 /  234 · loss: 0.675\n",
      "train ·    1 /  235 · loss: 0.510\n",
      "train ·    1 /  236 · loss: 1.367\n",
      "train ·    1 /  237 · loss: 1.234\n",
      "train ·    1 /  238 · loss: 0.935\n",
      "train ·    1 /  239 · loss: 0.694\n",
      "train ·    1 /  240 · loss: 0.803\n",
      "train ·    1 /  241 · loss: 0.762\n",
      "train ·    1 /  242 · loss: 0.795\n",
      "train ·    1 /  243 · loss: 1.257\n",
      "train ·    1 /  244 · loss: 1.078\n",
      "train ·    1 /  245 · loss: 0.907\n",
      "train ·    1 /  246 · loss: 1.018\n",
      "train ·    1 /  247 · loss: 1.326\n",
      "train ·    1 /  248 · loss: 1.145\n",
      "train ·    1 /  249 · loss: 1.778\n",
      "train ·    1 /  250 · loss: 1.942\n",
      "train ·    1 /  251 · loss: 1.030\n",
      "train ·    1 /  252 · loss: 1.318\n",
      "train ·    1 /  253 · loss: 1.844\n",
      "train ·    1 /  254 · loss: 3.872\n",
      "train ·    1 /  255 · loss: 1.544\n",
      "train ·    1 /  256 · loss: 1.471\n",
      "train ·    1 /  257 · loss: 1.426\n"
     ]
    },
    {
     "name": "stderr",
     "output_type": "stream",
     "text": [
      "/home/doneata/miniconda3/envs/mattnet/lib/python3.10/site-packages/ignite/handlers/lr_finder.py:201: UserWarning: Run completed without loss diverging, increase end_lr, decrease diverge_th or look at lr_finder.plot()\n",
      "  warnings.warn(\n"
     ]
    }
   ],
   "source": [
    "lr_finder = FastaiLRFinder()\n",
    "to_save = {\"optimizer\": optimizer}\n",
    "\n",
    "with lr_finder.attach(trainer, to_save=to_save, num_iter=256, start_lr=1e-8, end_lr=1e-2) as trainer_with_lr_finder:\n",
    "    trainer_with_lr_finder.run(dataloader_train)\n"
   ]
  },
  {
   "cell_type": "code",
   "execution_count": 11,
   "metadata": {},
   "outputs": [
    {
     "name": "stderr",
     "output_type": "stream",
     "text": [
      "/home/doneata/miniconda3/envs/mattnet/lib/python3.10/site-packages/ignite/handlers/lr_finder.py:293: UserWarning: skip_start is larger than the suggested LR found and it will not be visible on the plot. Please, make the value smaller.\n",
      "  warnings.warn(\n"
     ]
    },
    {
     "data": {
      "image/png": "[encoded data removed]",
      "text/plain": [
       "<Figure size 640x480 with 1 Axes>"
      ]
     },
     "metadata": {},
     "output_type": "display_data"
    },
    {
     "data": {
      "text/plain": [
       "<Axes: xlabel='Learning rate', ylabel='Loss'>"
      ]
     },
     "execution_count": 11,
     "metadata": {},
     "output_type": "execute_result"
    }
   ],
   "source": [
    "# config: 22\n",
    "lr_finder.plot()"
   ]
  },
  {
   "cell_type": "code",
   "execution_count": 10,
   "metadata": {},
   "outputs": [
    {
     "name": "stderr",
     "output_type": "stream",
     "text": [
      "/home/doneata/miniconda3/envs/mattnet/lib/python3.10/site-packages/ignite/handlers/lr_finder.py:293: UserWarning: skip_start is larger than the suggested LR found and it will not be visible on the plot. Please, make the value smaller.\n",
      "  warnings.warn(\n"
     ]
    },
    {
     "data": {
      "image/png": "[encoded data removed]",
      "text/plain": [
       "<Figure size 640x480 with 1 Axes>"
      ]
     },
     "metadata": {},
     "output_type": "display_data"
    },
    {
     "data": {
      "text/plain": [
       "<Axes: xlabel='Learning rate', ylabel='Loss'>"
      ]
     },
     "execution_count": 10,
     "metadata": {},
     "output_type": "execute_result"
    }
   ],
   "source": [
    "# config: 20\n",
    "lr_finder.plot()"
   ]
  },
  {
   "cell_type": "code",
   "execution_count": 11,
   "metadata": {},
   "outputs": [
    {
     "name": "stderr",
     "output_type": "stream",
     "text": [
      "/home/doneata/miniconda3/envs/mattnet/lib/python3.10/site-packages/ignite/handlers/lr_finder.py:293: UserWarning: skip_start is larger than the suggested LR found and it will not be visible on the plot. Please, make the value smaller.\n",
      "  warnings.warn(\n"
     ]
    },
    {
     "data": {
      "image/png": "[encoded data removed]",
      "text/plain": [
       "<Figure size 640x480 with 1 Axes>"
      ]
     },
     "metadata": {},
     "output_type": "display_data"
    },
    {
     "data": {
      "text/plain": [
       "<Axes: xlabel='Learning rate', ylabel='Loss'>"
      ]
     },
     "execution_count": 11,
     "metadata": {},
     "output_type": "execute_result"
    }
   ],
   "source": [
    "\n",
    "lr_finder.plot()"
   ]
  },
  {
   "cell_type": "code",
   "execution_count": 12,
   "metadata": {},
   "outputs": [
    {
     "data": {
      "text/plain": [
       "1.3823722273578995e-08"
      ]
     },
     "execution_count": 12,
     "metadata": {},
     "output_type": "execute_result"
    }
   ],
   "source": [
    "lr_finder.lr_suggestion()"
   ]
  },
  {
   "cell_type": "code",
   "execution_count": null,
   "metadata": {},
   "outputs": [],
   "source": []
  }
 ],
 "metadata": {
  "kernelspec": {
   "display_name": "mattnet",
   "language": "python",
   "name": "python3"
  },
  "language_info": {
   "codemirror_mode": {
    "name": "ipython",
    "version": 3
   },
   "file_extension": ".py",
   "mimetype": "text/x-python",
   "name": "python",
   "nbconvert_exporter": "python",
   "pygments_lexer": "ipython3",
   "version": "3.10.10"
  }
 },
 "nbformat": 4,
 "nbformat_minor": 2
}
